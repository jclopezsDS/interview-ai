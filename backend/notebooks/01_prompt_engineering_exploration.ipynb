{
 "cells": [
  {
   "cell_type": "markdown",
   "id": "d8eb5ef1",
   "metadata": {},
   "source": [
    "# 01 - Prompt Engineering Exploration\n",
    "\n",
    "## Objectives\n",
    "- Explore 5+ prompting techniques (few-shot, CoT, zero-shot, etc.)\n",
    "- Test different system prompts for interview scenarios\n",
    "- Basic OpenAI API integration and response analysis\n",
    "- Temperature and parameter tuning experiments\n",
    "\n",
    "## Expected Output\n",
    "Best performing prompts and parameter configurations\n",
    "\n",
    "---"
   ]
  },
  {
   "cell_type": "markdown",
   "id": "60e5912d",
   "metadata": {},
   "source": [
    "## Phase 1: Environment Setup"
   ]
  },
  {
   "cell_type": "code",
   "execution_count": null,
   "id": "a63e77be",
   "metadata": {},
   "outputs": [],
   "source": [
    "import sys\n",
    "sys.path.append('../src')\n",
    "\n",
    "from core.llm_client import setup_openai_client\n",
    "from core.llm_client import validate_api_connection\n",
    "from core.prompt_templates import (\n",
    "    create_system_prompt_templates,\n",
    "    create_user_prompt_templates,\n",
    "    create_context_prompt_templates,\n",
    "    implement_zero_shot_prompting,\n",
    "    implement_few_shot_prompting,\n",
    "    implement_role_based_prompting,\n",
    "    generate_behavioral_questions,\n",
    "    generate_technical_questions,\n",
    "    implement_response_scorer,\n",
    "    assess_role_alignment,\n",
    "    implement_chain_of_thought\n",
    ")"
   ]
  },
  {
   "cell_type": "code",
   "execution_count": 2,
   "id": "62795895",
   "metadata": {},
   "outputs": [
    {
     "name": "stdout",
     "output_type": "stream",
     "text": [
      "[SETUP] Initializing OpenAI client configuration\n",
      "[CONFIG] Loading environment variables from: ../.env\n",
      "[CONFIG] API key successfully retrieved from environment\n",
      "[SETUP] OpenAI client initialized successfully\n"
     ]
    }
   ],
   "source": [
    "client = setup_openai_client(\"../.env\")"
   ]
  },
  {
   "cell_type": "code",
   "execution_count": 3,
   "id": "d358ce9d",
   "metadata": {},
   "outputs": [
    {
     "name": "stdout",
     "output_type": "stream",
     "text": [
      "[INIT] Validating OpenAI API connection and model availability\n",
      "[STEP] Testing API connectivity with minimal request\n",
      "[SUCCESS] API connection established - 93 models available\n",
      "[INFO] Required models available: ['gpt-4.1-mini', 'gpt-4.1-nano']\n",
      "[STEP] Testing model response with: gpt-4.1-nano\n",
      "[SUCCESS] Model response test completed: OK\n",
      "[INFO] Token usage tracking functional: 16 tokens\n",
      "[COMPLETED] API connection validation successful\n"
     ]
    }
   ],
   "source": [
    "connection_status = validate_api_connection(client)"
   ]
  },
  {
   "cell_type": "markdown",
   "id": "bcca3166",
   "metadata": {},
   "source": [
    "## Phase 2: Core Prompt Templates"
   ]
  },
  {
   "cell_type": "code",
   "execution_count": 4,
   "id": "7dea9b40",
   "metadata": {},
   "outputs": [
    {
     "name": "stdout",
     "output_type": "stream",
     "text": [
      "[INIT] Creating system prompt templates for interview scenarios\n",
      "[SUCCESS] Created 4 system prompt templates\n",
      "[INFO] Available templates: ['technical', 'behavioral', 'case_study', 'general']\n",
      "[VALIDATED] Template 'technical': 608 characters\n",
      "[VALIDATED] Template 'behavioral': 621 characters\n",
      "[VALIDATED] Template 'case_study': 603 characters\n",
      "[VALIDATED] Template 'general': 600 characters\n",
      "[COMPLETED] System prompt templates creation successful\n"
     ]
    }
   ],
   "source": [
    "system_templates = create_system_prompt_templates()"
   ]
  },
  {
   "cell_type": "code",
   "execution_count": 5,
   "id": "c379892f",
   "metadata": {},
   "outputs": [
    {
     "name": "stdout",
     "output_type": "stream",
     "text": [
      "[INIT] Creating user prompt templates with dynamic placeholders\n",
      "[SUCCESS] Created 5 user prompt templates\n",
      "[INFO] Available templates: ['technical_question', 'behavioral_question', 'case_study_prompt', 'follow_up_generator', 'context_aware']\n",
      "[ANALYSIS] Template 'technical_question': 8 placeholders, 437 characters\n",
      "[ANALYSIS] Template 'behavioral_question': 7 placeholders, 455 characters\n",
      "[ANALYSIS] Template 'case_study_prompt': 8 placeholders, 461 characters\n",
      "[ANALYSIS] Template 'follow_up_generator': 5 placeholders, 459 characters\n",
      "[ANALYSIS] Template 'context_aware': 12 placeholders, 620 characters\n",
      "[INFO] Total placeholders across all templates: 40\n",
      "[COMPLETED] User prompt templates creation successful\n"
     ]
    }
   ],
   "source": [
    "user_templates = create_user_prompt_templates()"
   ]
  },
  {
   "cell_type": "code",
   "execution_count": 6,
   "id": "981a496e",
   "metadata": {},
   "outputs": [
    {
     "name": "stdout",
     "output_type": "stream",
     "text": [
      "[INIT] Creating context-aware prompt templates for personalized interviews\n",
      "[SUCCESS] Created 5 context-aware prompt templates\n",
      "[INFO] Available templates: ['job_description_integration', 'candidate_background_aware', 'company_culture_context', 'role_specific_scenarios', 'adaptive_depth_control']\n",
      "[ANALYSIS] Template 'job_description_integration': 7 placeholders, 8 sections, 662 chars\n",
      "[ANALYSIS] Template 'candidate_background_aware': 11 placeholders, 14 sections, 795 chars\n",
      "[ANALYSIS] Template 'company_culture_context': 12 placeholders, 16 sections, 799 chars\n",
      "[ANALYSIS] Template 'role_specific_scenarios': 8 placeholders, 10 sections, 718 chars\n",
      "[ANALYSIS] Template 'adaptive_depth_control': 11 placeholders, 15 sections, 903 chars\n",
      "[METRICS] Total placeholders: 49\n",
      "[METRICS] Average complexity per template: 9.8 placeholders\n",
      "[COMPLETED] Context-aware prompt templates creation successful\n"
     ]
    }
   ],
   "source": [
    "context_templates = create_context_prompt_templates()"
   ]
  },
  {
   "cell_type": "markdown",
   "id": "64ff57cd",
   "metadata": {},
   "source": [
    "## Phase 3: Prompting Technique Implementations"
   ]
  },
  {
   "cell_type": "code",
   "execution_count": 7,
   "id": "ebf08808",
   "metadata": {},
   "outputs": [
    {
     "name": "stdout",
     "output_type": "stream",
     "text": [
      "[INIT] Implementing zero-shot prompting for Technical interview\n",
      "[CONFIG] Role: Senior Python Developer, Level: Senior\n",
      "[SETUP] Using Technical system prompt (600 chars)\n",
      "[SETUP] Created zero-shot user prompt (307 chars)\n",
      "[STEP] Executing zero-shot API call\n",
      "[SUCCESS] Generated zero-shot question (149 chars)\n",
      "[QUESTION] Can you describe a complex Python project you have led, including how you designed the architecture, managed dependencies, and optimized performance?\n",
      "[METRICS] Tokens used: 184\n",
      "[COMPLETED] Zero-shot prompting implementation successful\n"
     ]
    }
   ],
   "source": [
    "zero_shot_result = implement_zero_shot_prompting(\n",
    "    client=client,\n",
    "    system_templates=system_templates,\n",
    "    user_templates=user_templates,\n",
    "    interview_type=\"Technical\",\n",
    "    job_role=\"Senior Python Developer\",\n",
    "    experience_level=\"Senior\"\n",
    ")"
   ]
  },
  {
   "cell_type": "code",
   "execution_count": 8,
   "id": "48fe32ba",
   "metadata": {},
   "outputs": [
    {
     "name": "stdout",
     "output_type": "stream",
     "text": [
      "[INIT] Implementing few-shot prompting for behavioral interview\n",
      "[CONFIG] Role: Product Manager, Level: senior, Examples: 3\n",
      "[SETUP] Using behavioral system prompt (621 chars)\n",
      "[EXAMPLES] Selected 3 example Q&A pairs for pattern learning\n",
      "[SETUP] Created few-shot user prompt with 3 examples (1300 chars)\n",
      "[STEP] Executing few-shot API call with example patterns\n",
      "[SUCCESS] Generated few-shot question using 3 example patterns (121 chars)\n",
      "[QUESTION] Can you tell me about a time when you had to influence stakeholders with conflicting interests to move a product forward?\n",
      "[PATTERN] Examples provided pattern learning for consistent style and complexity\n",
      "[METRICS] Tokens used: 381\n",
      "[COMPLETED] Few-shot prompting implementation successful\n"
     ]
    }
   ],
   "source": [
    "few_shot_result = implement_few_shot_prompting(\n",
    "    client=client,\n",
    "    system_templates=system_templates,\n",
    "    user_templates=user_templates,\n",
    "    interview_type=\"behavioral\",\n",
    "    job_role=\"Product Manager\",\n",
    "    experience_level=\"senior\",\n",
    "    num_examples=3\n",
    ")"
   ]
  },
  {
   "cell_type": "code",
   "execution_count": 9,
   "id": "113b4fd2",
   "metadata": {},
   "outputs": [
    {
     "name": "stdout",
     "output_type": "stream",
     "text": [
      "[INIT] Implementing chain-of-thought prompting for case_study interview\n",
      "[CONFIG] Role: Data Scientist, Level: senior, Complexity: complex\n",
      "[SETUP] Using case_study system prompt (603 chars)\n",
      "[SETUP] Created chain-of-thought user prompt (1064 chars)\n",
      "[STEP] Executing chain-of-thought API call with step-by-step reasoning structure\n",
      "[SUCCESS] Generated chain-of-thought question with structured reasoning (2138 chars)\n",
      "[QUESTION] Certainly! Here's a complex, step-by-step interview question designed for a senior Data Scientist position that encourages structured reasoning and strategic thinking:\n",
      "\n",
      "---\n",
      "\n",
      "**Scenario:**\n",
      "\n",
      "Your company has recently launched a new feature in its mobile app aimed at increasing user engagement. After three months, you notice that while the feature is being used frequently, overall user retention has not improved and may even be declining among certain user segments. You’ve been asked to analyze the situation and recommend data-driven strategies to improve retention.\n",
      "\n",
      "---\n",
      "\n",
      "**Question:**\n",
      "\n",
      "*Let's think through this problem step by step:*\n",
      "\n",
      "1. **Data Exploration & Segmentation:**  \n",
      "   - First, what types of data would you collect or analyze to understand why the new feature isn’t translating into improved retention?  \n",
      "   - How would you segment your user base to identify which groups are benefiting from the feature and which are not?  \n",
      "   - *Reasoning checkpoint:* What specific user behaviors, demographics, or engagement metrics would be most relevant here?\n",
      "\n",
      "2. **Feature Usage & Correlation Analysis:**  \n",
      "   - Next, how would you evaluate whether usage of the new feature correlates with retention within different segments?  \n",
      "   - What statistical or analytical methods could help establish whether the feature has a causal or just correlational relationship with retention?  \n",
      "   - *Reasoning checkpoint:* How would you account for confounding variables or biases in this analysis?\n",
      "\n",
      "3. **Behavioral Insights & Hypothesis Generation:**  \n",
      "   - Then, based on your findings, what hypotheses could explain why the feature isn’t improving retention?  \n",
      "   - How might user experience, feature design, or external factors influence these outcomes?  \n",
      "   - *Reasoning checkpoint:* How would you validate these hypotheses using additional data or experiments?\n",
      "\n",
      "4. **Actionable Recommendations:**  \n",
      "   - Finally, considering your analysis, what strategies would you recommend to improve retention?  \n",
      "   - Would you suggest modifying the feature, targeting specific segments differently, or testing new engagement tactics?  \n",
      "   - *Reasoning\n",
      "[REASONING] Question includes 8 step-by-step reasoning elements\n",
      "[STRUCTURE] Designed to guide candidate through logical problem-solving process\n",
      "[METRICS] Tokens used: 720\n",
      "[COMPLETED] Chain-of-thought prompting implementation successful\n"
     ]
    }
   ],
   "source": [
    "cot_result = implement_chain_of_thought(\n",
    "    client=client,\n",
    "    system_templates=system_templates,\n",
    "    user_templates=user_templates,\n",
    "    interview_type=\"case_study\",\n",
    "    job_role=\"Data Scientist\",\n",
    "    experience_level=\"senior\",\n",
    "    complexity_level=\"complex\"\n",
    ")"
   ]
  },
  {
   "cell_type": "code",
   "execution_count": 10,
   "id": "80f1e3d3",
   "metadata": {},
   "outputs": [
    {
     "name": "stdout",
     "output_type": "stream",
     "text": [
      "[INIT] Implementing role-based prompting with tech_lead persona\n",
      "[CONFIG] Role: Full Stack Developer, Level: mid-level, Context: fintech_startup\n",
      "[PERSONA] Selected: Technical Lead managing a team of 5-8 developers\n",
      "[FOCUS] Interview focus: technical leadership, architecture decisions, team collaboration\n",
      "[SETUP] Created role-based prompt for tech_lead perspective (723 chars)\n",
      "[STEP] Executing role-based API call from tech_lead perspective\n",
      "[SUCCESS] Generated role-based question from tech_lead perspective (452 chars)\n",
      "[QUESTION] Can you walk me through a time when you had to design or significantly contribute to a feature that involved both frontend and backend components? Specifically, how did you approach making architectural decisions to ensure scalability, maintainability, and security? Additionally, how did you collaborate with or mentor other team members during that process, and what trade-offs did you consider to balance technical excellence with project deadlines?\n",
      "[PERSPECTIVE] Question reflects Technical Lead managing a team of 5-8 developers priorities and style\n",
      "[AUTHENTICITY] Designed to feel realistic for tech_lead interviewer\n",
      "[METRICS] Tokens used: 325\n",
      "[COMPLETED] Role-based prompting implementation successful\n"
     ]
    }
   ],
   "source": [
    "role_based_result = implement_role_based_prompting(\n",
    "    client=client,\n",
    "    system_templates=system_templates,\n",
    "    user_templates=user_templates,\n",
    "    interviewer_persona=\"tech_lead\",\n",
    "    job_role=\"Full Stack Developer\",\n",
    "    experience_level=\"mid-level\",\n",
    "    company_context=\"fintech_startup\"\n",
    ")"
   ]
  },
  {
   "cell_type": "markdown",
   "id": "032a7d33",
   "metadata": {},
   "source": [
    "## Phase 4: Interview Scenario Testing"
   ]
  },
  {
   "cell_type": "code",
   "execution_count": 11,
   "id": "0df0178a",
   "metadata": {},
   "outputs": [
    {
     "name": "stdout",
     "output_type": "stream",
     "text": [
      "[INIT] Generating technical questions for Senior Full Stack Developer position\n",
      "[CONFIG] Level: senior, Focus areas: ['coding', 'system_design', 'technical_knowledge'], Questions per area: 2\n",
      "[SETUP] Using technical system prompt (608 chars)\n",
      "[PROCESSING] Generating 2 questions for coding\n",
      "[STEP] Executing API call for coding questions\n",
      "[SUCCESS] Generated coding questions (2001 chars, 604 tokens)\n",
      "[QUESTIONS - CODING]\n",
      "Certainly! Here are two technical interview questions tailored for a Senior Full Stack Developer, focusing on coding and algorithmic problem-solving:\n",
      "\n",
      "---\n",
      "\n",
      "**Question 1: Efficient Data Retrieval and Caching Strategy (Design & Implementation)**\n",
      "\n",
      "*Context:*  \n",
      "You're developing a web application that displays user profiles. The profile data is fetched from a remote API and is relatively static but occasionally updated. To improve performance and reduce API calls, you decide to implement an in-memory caching layer.\n",
      "\n",
      "*Task:*  \n",
      "Design and implement a thread-safe caching class in your preferred language (e.g., Python, Java, or JavaScript) with the following features:\n",
      "\n",
      "- Fetches data from the API if not present in cache or if the cache has expired.\n",
      "- Cache expiration time should be configurable.\n",
      "- Supports concurrent access without race conditions.\n",
      "- Provides a method to manually invalidate cache entries.\n",
      "\n",
      "*Additional notes:*  \n",
      "Focus on code clarity, proper use of data structures, and thread safety considerations. Explain your design choices and how your implementation handles potential concurrency issues.\n",
      "\n",
      "---\n",
      "\n",
      "**Question 2: Optimizing a Recursive Algorithm for Large Input Sets**\n",
      "\n",
      "*Context:*  \n",
      "You are given a list of integers representing transaction amounts. You need to find all unique triplets in the list which sum up to zero (a classic 3-sum problem). The naive approach involves checking all triplets, leading to O(n^3) complexity, which is inefficient for large datasets.\n",
      "\n",
      "*Task:*  \n",
      "Implement an optimized solution that:\n",
      "\n",
      "- Finds all unique triplets summing to zero.\n",
      "- Handles large input efficiently.\n",
      "- Returns results without duplicates.\n",
      "\n",
      "*Constraints:*  \n",
      "- You may assume the input list can contain thousands of elements.\n",
      "- Focus on code efficiency, readability, and avoiding unnecessary computations.\n",
      "\n",
      "*Optional:*  \n",
      "Explain your algorithm's time complexity and any trade-offs involved.\n",
      "\n",
      "---\n",
      "\n",
      "Would you like me to provide sample solutions or further guidance on these questions?\n",
      "------------------------------------------------------------\n",
      "[PROCESSING] Generating 2 questions for system_design\n",
      "[STEP] Executing API call for system_design questions\n",
      "[SUCCESS] Generated system_design questions (1778 chars, 538 tokens)\n",
      "[QUESTIONS - SYSTEM_DESIGN]\n",
      "Certainly! Here are two distinct system design questions tailored for a Senior Full Stack Developer position, focusing on architecture and scalability:\n",
      "\n",
      "---\n",
      "\n",
      "**1. Design a Scalable E-Commerce Platform Backend**\n",
      "\n",
      "*Context:*  \n",
      "You are tasked with designing the backend architecture for a large-scale e-commerce platform that supports millions of users and high transaction volumes, especially during peak shopping seasons. The platform includes features such as product catalog, user accounts, shopping cart, order processing, and payment integration.\n",
      "\n",
      "*Question:*  \n",
      "Describe how you would design the backend system to handle high scalability and availability. Include considerations for database schema design, API layer architecture, microservices decomposition, caching strategies, and data consistency.  \n",
      "*Follow-up:* Discuss trade-offs between using monolithic vs. microservices architecture in this context and how you would ensure performance under load.\n",
      "\n",
      "---\n",
      "\n",
      "**2. Real-Time Notification System for a Social Media Application**\n",
      "\n",
      "*Context:*  \n",
      "A social media app needs to deliver real-time notifications (likes, comments, mentions) to users across different devices. The system must scale efficiently as the number of active users grows into the millions while maintaining low latency.\n",
      "\n",
      "*Question:*  \n",
      "Design an architecture for this notification system that ensures timely delivery at scale. Address components such as message queuing, data storage, real-time event processing, and delivery mechanisms (push notifications, WebSockets).  \n",
      "*Follow-up:* Analyze potential bottlenecks and propose strategies to mitigate latency issues and ensure fault tolerance in your system.\n",
      "\n",
      "---\n",
      "\n",
      "Would you like me to provide model answers or guidance on how to evaluate candidate responses?\n",
      "------------------------------------------------------------\n",
      "[PROCESSING] Generating 2 questions for technical_knowledge\n",
      "[STEP] Executing API call for technical_knowledge questions\n",
      "[SUCCESS] Generated technical_knowledge questions (1349 chars, 473 tokens)\n",
      "[QUESTIONS - TECHNICAL_KNOWLEDGE]\n",
      "Certainly! Here are two technical interview questions tailored for a Senior Full Stack Developer position, focusing on conceptual and theoretical knowledge:\n",
      "\n",
      "---\n",
      "\n",
      "**1. Frameworks and Patterns:**  \n",
      "*Context:* In a large-scale web application, maintainability and scalability are critical. You are considering whether to use a monolithic architecture with a traditional MVC framework or adopt a microservices architecture.  \n",
      "\n",
      "**Question:**  \n",
      "*Can you explain the main differences between monolithic MVC frameworks (like Ruby on Rails or Django) and microservices architectures? What are the key trade-offs in terms of development complexity, deployment, scalability, and maintainability? Additionally, in what scenarios might you choose one over the other?*\n",
      "\n",
      "---\n",
      "\n",
      "**2. Security and Protocols:**  \n",
      "*Context:* When designing a RESTful API that handles sensitive user data, security considerations are paramount.  \n",
      "\n",
      "**Question:**  \n",
      "*Describe the primary security concerns associated with REST APIs, particularly around authentication and data protection. How do protocols like OAuth 2.0 or JWT help address these concerns? Can you compare their use cases and limitations? Furthermore, outline best practices for securing data in transit and at rest within such APIs.*\n",
      "\n",
      "---\n",
      "\n",
      "Would you like me to generate follow-up questions or delve into specific topics?\n",
      "------------------------------------------------------------\n",
      "[COMPLETED] Technical question generation successful\n",
      "[SUMMARY] Generated 6 questions across 3 technical areas\n",
      "[METRICS] Total tokens used: 1615\n"
     ]
    }
   ],
   "source": [
    "technical_questions_result = generate_technical_questions(\n",
    "    client=client,\n",
    "    system_templates=system_templates,\n",
    "    job_role=\"Senior Full Stack Developer\",\n",
    "    experience_level=\"senior\",\n",
    "    focus_areas=[\"coding\", \"system_design\", \"technical_knowledge\"],\n",
    "    num_questions=2\n",
    ")"
   ]
  },
  {
   "cell_type": "code",
   "execution_count": 12,
   "id": "a165badc",
   "metadata": {},
   "outputs": [
    {
     "name": "stdout",
     "output_type": "stream",
     "text": [
      "[INIT] Generating behavioral questions for Product Manager role\n",
      "[CONFIG] Level: senior, Questions: 4\n",
      "[COMPETENCIES] Assessing: leadership, stakeholder_management, decision_making, conflict_resolution\n",
      "[SETUP] Using behavioral system prompt (621 chars)\n",
      "[SETUP] Created behavioral prompt targeting 4 competencies (769 chars)\n",
      "[STEP] Executing behavioral questions generation\n",
      "[SUCCESS] Generated 0 behavioral questions (1964 chars)\n",
      "[QUESTIONS] Certainly! Here are four behavioral interview questions tailored for a senior Product Manager position, focusing on leadership, stakeholder management, decision-making, and conflict resolution. Each question is structured to follow the STAR method and designed to elicit detailed, real-world examples:\n",
      "\n",
      "**1. Leadership:**  \n",
      "*“Can you tell me about a time when you led a cross-functional team through a challenging product launch? Please describe the situation, your role, how you managed team dynamics, and what the outcome was.”*  \n",
      "*(Follow-up prompts: How did you motivate the team? How did you handle any setbacks or disagreements?)*\n",
      "\n",
      "**2. Stakeholder Management:**  \n",
      "*“Describe an experience where you had to manage conflicting priorities among key stakeholders for a product feature or project. What was the situation, how did you navigate the differing expectations, and what was the result?”*  \n",
      "*(Follow-up prompts: How did you communicate with stakeholders? Were there any difficult conversations?)*\n",
      "\n",
      "**3. Decision-Making:**  \n",
      "*“Tell me about a time when you had to make a critical decision with incomplete information during a product development process. What was the situation, what options did you consider, and how did you arrive at your final decision?”*  \n",
      "*(Follow-up prompts: What was the impact of that decision? How did it influence the project’s outcome?)*\n",
      "\n",
      "**4. Conflict Resolution:**  \n",
      "*“Can you share an example of a situation where two team members or stakeholders had a disagreement that threatened to delay or derail a project? How did you intervene, what steps did you take to resolve the conflict, and what was the result?”*  \n",
      "*(Follow-up prompts: How did you ensure all parties felt heard? What lessons did you learn from that experience?)*\n",
      "\n",
      "These questions are designed to help interviewers assess not only the candidate’s past experiences but also their soft skills in real-world scenarios relevant to senior product management roles.\n",
      "[COMPETENCIES] Questions designed to assess: leadership, stakeholder_management, decision_making, conflict_resolution\n",
      "[FRAMEWORK] STAR method structure for detailed responses\n",
      "[METRICS] Tokens used: 651\n",
      "[COMPLETED] Behavioral questions generation successful\n"
     ]
    }
   ],
   "source": [
    "behavioral_result = generate_behavioral_questions(\n",
    "    client=client,\n",
    "    system_templates=system_templates,\n",
    "    user_templates=user_templates,\n",
    "    job_role=\"Product Manager\",\n",
    "    experience_level=\"senior\",\n",
    "    competencies=[\"leadership\", \"stakeholder_management\", \"decision_making\", \"conflict_resolution\"],\n",
    "    num_questions=4\n",
    ")"
   ]
  },
  {
   "cell_type": "markdown",
   "id": "1e5d62ad",
   "metadata": {},
   "source": [
    "## Phase 5: Response Quality Evaluation"
   ]
  },
  {
   "cell_type": "code",
   "execution_count": 13,
   "id": "08a70194",
   "metadata": {},
   "outputs": [
    {
     "name": "stdout",
     "output_type": "stream",
     "text": [
      "[INIT] Implementing response scorer for technical question\n",
      "[CONFIG] Role: Backend Developer, Level: mid-level\n",
      "[SETUP] Created comprehensive scoring prompt (1394 chars)\n",
      "[STEP] Executing AI-assisted question scoring\n",
      "[SUCCESS] Generated comprehensive scoring analysis (1863 chars)\n",
      "[ANALYSIS] Parsed 5 scoring criteria\n",
      "[METRICS] Overall Score: 8.0/10\n",
      "[METRICS] Question Length: 140 chars, 22 words\n",
      "[ASSESSMENT] Specific Requirements Detected: True\n",
      "[SCORES] Quality Assessment:\n",
      "  RELEVANCE: 9/10 - The question directly pertains to core backend dev...\n",
      "  CLARITY: 8/10 - The question is generally clear, asking candidates...\n",
      "  DIFFICULTY: 7/10 - For mid-level candidates, this is appropriately ch...\n",
      "  SPECIFICITY: 8/10 - The question targets specific knowledge about SQL ...\n",
      "  ACTIONABILITY: 8/10 - The open-ended nature allows candidates to demonst...\n",
      "[COMPLETED] Response scoring implementation successful\n"
     ]
    }
   ],
   "source": [
    "sample_question = \"Explain the differences between SQL and NoSQL databases, and describe a scenario where you would choose each approach for a web application.\"\n",
    "\n",
    "scoring_result = implement_response_scorer(\n",
    "    client=client,\n",
    "    question=sample_question,\n",
    "    interview_type=\"technical\",\n",
    "    job_role=\"Backend Developer\", \n",
    "    experience_level=\"mid-level\"\n",
    ")"
   ]
  },
  {
   "cell_type": "code",
   "execution_count": 14,
   "id": "3d32e497",
   "metadata": {},
   "outputs": [
    {
     "name": "stdout",
     "output_type": "stream",
     "text": [
      "[INIT] Assessing role alignment for Senior Python Developer question\n",
      "[CONFIG] Experience level: senior\n",
      "[SETUP] Using 3 assessment criteria\n",
      "[ANALYSIS] Job requirements: 5 required skills, 4 responsibilities\n",
      "[SETUP] Created alignment assessment prompt (1088 chars)\n",
      "[STEP] Executing role alignment assessment\n",
      "[SUCCESS] Generated alignment assessment (1429 chars)\n",
      "[DEBUG] Pattern 1 matches: 5\n",
      "[DEBUG] Pattern 2 matches: 0\n",
      "[DEBUG] Pattern 3 matches: 5\n",
      "[ASSESSMENT] Overall alignment: HIGH (80.0%)\n",
      "[SCORES] Individual criterion scores: {'technical_skill_relevance': 9, 'experience_level_appropriateness': 8, 'job_responsibility_alignment': 9, 'industry_context_accuracy': 6, 'practical_applicability': 8}\n",
      "[DEBUG] Assessment text preview: 1. Technical Skill Relevance: 9/10 - The question directly assesses core technical skills such as Python, system architecture, dependency management, and performance optimization, all of which are ess...\n",
      "[METRICS] Tokens used: 526\n",
      "[COMPLETED] Role alignment assessment successful\n"
     ]
    }
   ],
   "source": [
    "job_requirements_example = {\n",
    "    \"required_skills\": [\"Python\", \"FastAPI\", \"PostgreSQL\", \"REST APIs\", \"Git\"],\n",
    "    \"preferred_skills\": [\"Docker\", \"AWS\", \"React\", \"TypeScript\"],\n",
    "    \"responsibilities\": [\"Build backend APIs\", \"Database design\", \"Code reviews\", \"System architecture\"],\n",
    "    \"industry\": \"fintech\"\n",
    "}\n",
    "\n",
    "alignment_result = assess_role_alignment(\n",
    "    client=client,\n",
    "    generated_question=zero_shot_result[\"generated_question\"],\n",
    "    job_requirements=job_requirements_example,\n",
    "    job_role=\"Senior Python Developer\",\n",
    "    experience_level=\"senior\",\n",
    "    assessment_criteria=[\"technical_skill_relevance\", \"experience_level_appropriateness\", \"job_responsibility_alignment\"]\n",
    ")"
   ]
  }
 ],
 "metadata": {
  "kernelspec": {
   "display_name": "Interview Backend",
   "language": "python",
   "name": "interview-backend-env"
  },
  "language_info": {
   "codemirror_mode": {
    "name": "ipython",
    "version": 3
   },
   "file_extension": ".py",
   "mimetype": "text/x-python",
   "name": "python",
   "nbconvert_exporter": "python",
   "pygments_lexer": "ipython3",
   "version": "3.10.18"
  }
 },
 "nbformat": 4,
 "nbformat_minor": 5
}
